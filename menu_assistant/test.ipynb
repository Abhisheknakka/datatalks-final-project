{
 "cells": [
  {
   "cell_type": "code",
   "execution_count": 3,
   "metadata": {},
   "outputs": [
    {
     "name": "stderr",
     "output_type": "stream",
     "text": [
      "2024-09-26 14:05:12.074 \n",
      "  \u001b[33m\u001b[1mWarning:\u001b[0m to view this Streamlit app on a browser, run it with the following\n",
      "  command:\n",
      "\n",
      "    streamlit run c:\\Users\\nakka\\AppData\\Local\\Programs\\Python\\Python312\\Lib\\site-packages\\ipykernel_launcher.py [ARGUMENTS]\n",
      "2024-09-26 14:05:12.074 Session state does not function when running a script without `streamlit run`\n"
     ]
    }
   ],
   "source": [
    "import streamlit as st\n",
    "import os\n",
    "import time\n",
    "from dotenv import load_dotenv\n",
    "from openai import OpenAI\n",
    "from groq import Groq\n",
    "import minsearch\n",
    "import json\n",
    "import rag\n",
    "import sys\n",
    "# Append the parent folder to the system path\n",
    "sys.path.append(os.path.abspath(os.path.join(os.getcwd(), os.pardir)))\n",
    "# Now you can import config.py\n",
    "import config\n",
    "\n",
    "# Load environment variables\n",
    "load_dotenv()\n",
    "\n",
    "# Setup the OpenAI client to use either Groq, OpenAI.com, or Ollama API\n",
    "API_HOST = os.getenv(\"API_HOST\")\n",
    "\n",
    "if API_HOST == \"groq\":\n",
    "    client = Groq(\n",
    "        api_key=os.getenv(\"GROQ_API_KEY\")\n",
    "    )\n",
    "    MODEL_NAME = os.getenv(\"GROQ_MODEL\")\n",
    "\n",
    "elif API_HOST == \"ollama\":\n",
    "    client = OpenAI(\n",
    "        base_url=os.getenv(\"OLLAMA_ENDPOINT\"),\n",
    "        api_key=\"nokeyneeded\"\n",
    "    )\n",
    "    MODEL_NAME = os.getenv(\"OLLAMA_MODEL\")\n",
    "\n",
    "elif API_HOST == \"openai\":\n",
    "    client = OpenAI(api_key=os.getenv(\"OPENAI_API_KEY\"))\n",
    "    MODEL_NAME = os.getenv(\"OPENAI_MODEL\")\n",
    "else:\n",
    "    st.write(\"No LLM Selected\")\n",
    "    st.stop()\n",
    "\n",
    "# App Title\n",
    "st.title(\"Restaurant Chatbot with RAG\")\n",
    "\n",
    "# Input for the user query\n",
    "query = st.text_input(\"Enter your question about the restaurant menu:\")\n",
    "\n",
    "# Button to handle question submission\n",
    "if st.button(\"Submit\"):\n",
    "    if not query:\n",
    "        st.error(\"Please enter a question.\")\n",
    "    else:\n",
    "        with st.spinner(\"Fetching answer...\"):\n",
    "            # Call the RAG pipeline\n",
    "            answer_data = rag.rag(query, model=MODEL_NAME)\n",
    "\n",
    "            # Display the result\n",
    "            st.write(f\"Question: {query}\")\n",
    "            st.write(f\"Answer: {answer_data['answer']}\")\n",
    "            st.write(f\"Response Time: {answer_data['response_time']} seconds\")\n",
    "            st.write(f\"Relevance: {answer_data['relevance']}\")\n",
    "            st.write(f\"Cost: ${answer_data['openai_cost']:.6f}\")\n",
    "\n",
    "# Feedback Section\n",
    "st.subheader(\"Provide Feedback\")\n",
    "\n",
    "conversation_id = st.text_input(\"Enter Conversation ID for Feedback:\")\n",
    "feedback = st.radio(\"Feedback:\", options=[1, -1], index=0)\n",
    "\n",
    "if st.button(\"Submit Feedback\"):\n",
    "    if not conversation_id:\n",
    "        st.error(\"Please enter a valid conversation ID.\")\n",
    "    else:\n",
    "        # In reality, this would save the feedback to a database or file.\n",
    "        st.success(f\"Feedback received for conversation {conversation_id}: {feedback}\")\n"
   ]
  },
  {
   "cell_type": "code",
   "execution_count": 2,
   "metadata": {},
   "outputs": [
    {
     "data": {
      "text/plain": [
       "'groq'"
      ]
     },
     "execution_count": 2,
     "metadata": {},
     "output_type": "execute_result"
    }
   ],
   "source": [
    "API_HOST"
   ]
  },
  {
   "cell_type": "code",
   "execution_count": null,
   "metadata": {},
   "outputs": [],
   "source": []
  }
 ],
 "metadata": {
  "kernelspec": {
   "display_name": "Python 3 (ipykernel)",
   "language": "python",
   "name": "python3"
  },
  "language_info": {
   "codemirror_mode": {
    "name": "ipython",
    "version": 3
   },
   "file_extension": ".py",
   "mimetype": "text/x-python",
   "name": "python",
   "nbconvert_exporter": "python",
   "pygments_lexer": "ipython3",
   "version": "3.12.4"
  }
 },
 "nbformat": 4,
 "nbformat_minor": 4
}
